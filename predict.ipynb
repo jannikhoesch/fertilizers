{
  "metadata": {
    "kernelspec": {
      "language": "python",
      "display_name": "Python 3",
      "name": "python3"
    },
    "language_info": {
      "name": "python",
      "version": "3.11.11",
      "mimetype": "text/x-python",
      "codemirror_mode": {
        "name": "ipython",
        "version": 3
      },
      "pygments_lexer": "ipython3",
      "nbconvert_exporter": "python",
      "file_extension": ".py"
    },
    "kaggle": {
      "accelerator": "none",
      "dataSources": [
        {
          "sourceId": 91717,
          "databundleVersionId": 12184666,
          "sourceType": "competition"
        }
      ],
      "dockerImageVersionId": 31040,
      "isInternetEnabled": true,
      "language": "python",
      "sourceType": "notebook",
      "isGpuEnabled": false
    },
    "colab": {
      "provenance": [],
      "include_colab_link": true
    }
  },
  "nbformat_minor": 0,
  "nbformat": 4,
  "cells": [
    {
      "cell_type": "markdown",
      "metadata": {
        "id": "view-in-github",
        "colab_type": "text"
      },
      "source": [
        "<a href=\"https://colab.research.google.com/github/jannikhoesch/fertilizers/blob/main/predict.ipynb\" target=\"_parent\"><img src=\"https://colab.research.google.com/assets/colab-badge.svg\" alt=\"Open In Colab\"/></a>"
      ]
    },
    {
      "cell_type": "code",
      "source": [
        "import pandas as pd\n",
        "from sklearn.model_selection import train_test_split\n",
        "from sklearn.preprocessing import StandardScaler\n",
        "from xgboost import XGBClassifier\n",
        "from sklearn.metrics import accuracy_score, top_k_accuracy_score\n",
        "from joblib import dump\n",
        "from sklearn.preprocessing import LabelEncoder\n",
        "from sklearn.model_selection import StratifiedKFold\n",
        "from collections import Counter\n",
        "import numpy as np"
      ],
      "metadata": {
        "trusted": true,
        "execution": {
          "iopub.status.busy": "2025-06-12T11:30:32.033971Z",
          "iopub.execute_input": "2025-06-12T11:30:32.035044Z",
          "iopub.status.idle": "2025-06-12T11:30:37.038076Z",
          "shell.execute_reply.started": "2025-06-12T11:30:32.035009Z",
          "shell.execute_reply": "2025-06-12T11:30:37.036506Z"
        },
        "id": "c-jeEvUR-erQ"
      },
      "outputs": [],
      "execution_count": 1
    },
    {
      "cell_type": "code",
      "source": [
        "# Read files\n",
        "train = pd.read_csv('/kaggle/input/playground-series-s5e6/train.csv')\n",
        "train = train.drop(columns=['id'])\n",
        "test = pd.read_csv('/kaggle/input/playground-series-s5e6/test.csv')"
      ],
      "metadata": {
        "trusted": true,
        "execution": {
          "iopub.status.busy": "2025-06-12T11:30:37.039594Z",
          "iopub.execute_input": "2025-06-12T11:30:37.040011Z",
          "iopub.status.idle": "2025-06-12T11:30:38.644583Z",
          "shell.execute_reply.started": "2025-06-12T11:30:37.039989Z",
          "shell.execute_reply": "2025-06-12T11:30:38.643053Z"
        },
        "id": "mZEhfgwl-erR"
      },
      "outputs": [],
      "execution_count": null
    },
    {
      "cell_type": "markdown",
      "source": [
        "## EDA"
      ],
      "metadata": {
        "id": "YYIrChCr-erR"
      }
    },
    {
      "cell_type": "code",
      "source": [
        "print(train_df.shape)\n",
        "print(train_df.dtypes)"
      ],
      "metadata": {
        "trusted": true,
        "execution": {
          "iopub.status.busy": "2025-06-12T11:30:40.237676Z",
          "iopub.execute_input": "2025-06-12T11:30:40.238069Z",
          "iopub.status.idle": "2025-06-12T11:30:40.248098Z",
          "shell.execute_reply.started": "2025-06-12T11:30:40.238032Z",
          "shell.execute_reply": "2025-06-12T11:30:40.246856Z"
        },
        "id": "3SJWU1Kg-erU",
        "outputId": "c6d1521a-8d6d-4a91-8286-8cb1c0c55cf6"
      },
      "outputs": [
        {
          "name": "stdout",
          "text": "(750000, 9)\nTemparature         int64\nHumidity            int64\nMoisture            int64\nSoil Type          object\nCrop Type          object\nNitrogen            int64\nPotassium           int64\nPhosphorous         int64\nFertilizer Name    object\ndtype: object\n",
          "output_type": "stream"
        }
      ],
      "execution_count": null
    },
    {
      "cell_type": "code",
      "source": [
        "train_df.head()"
      ],
      "metadata": {
        "trusted": true,
        "execution": {
          "iopub.status.busy": "2025-06-12T11:30:41.746891Z",
          "iopub.execute_input": "2025-06-12T11:30:41.747189Z",
          "iopub.status.idle": "2025-06-12T11:30:41.771935Z",
          "shell.execute_reply.started": "2025-06-12T11:30:41.747169Z",
          "shell.execute_reply": "2025-06-12T11:30:41.770948Z"
        },
        "id": "gnCxxonj-erU",
        "outputId": "dbb0f738-b8bb-4462-b033-a4956f62bd94"
      },
      "outputs": [
        {
          "execution_count": 7,
          "output_type": "execute_result",
          "data": {
            "text/plain": "   Temparature  Humidity  Moisture Soil Type  Crop Type  Nitrogen  Potassium  \\\n0           37        70        36    Clayey  Sugarcane        36          4   \n1           27        69        65     Sandy    Millets        30          6   \n2           29        63        32     Sandy    Millets        24         12   \n3           35        62        54     Sandy     Barley        39         12   \n4           35        58        43       Red      Paddy        37          2   \n\n   Phosphorous Fertilizer Name  \n0            5           28-28  \n1           18           28-28  \n2           16        17-17-17  \n3            4        10-26-26  \n4           16             DAP  ",
            "text/html": "<div>\n<style scoped>\n    .dataframe tbody tr th:only-of-type {\n        vertical-align: middle;\n    }\n\n    .dataframe tbody tr th {\n        vertical-align: top;\n    }\n\n    .dataframe thead th {\n        text-align: right;\n    }\n</style>\n<table border=\"1\" class=\"dataframe\">\n  <thead>\n    <tr style=\"text-align: right;\">\n      <th></th>\n      <th>Temparature</th>\n      <th>Humidity</th>\n      <th>Moisture</th>\n      <th>Soil Type</th>\n      <th>Crop Type</th>\n      <th>Nitrogen</th>\n      <th>Potassium</th>\n      <th>Phosphorous</th>\n      <th>Fertilizer Name</th>\n    </tr>\n  </thead>\n  <tbody>\n    <tr>\n      <th>0</th>\n      <td>37</td>\n      <td>70</td>\n      <td>36</td>\n      <td>Clayey</td>\n      <td>Sugarcane</td>\n      <td>36</td>\n      <td>4</td>\n      <td>5</td>\n      <td>28-28</td>\n    </tr>\n    <tr>\n      <th>1</th>\n      <td>27</td>\n      <td>69</td>\n      <td>65</td>\n      <td>Sandy</td>\n      <td>Millets</td>\n      <td>30</td>\n      <td>6</td>\n      <td>18</td>\n      <td>28-28</td>\n    </tr>\n    <tr>\n      <th>2</th>\n      <td>29</td>\n      <td>63</td>\n      <td>32</td>\n      <td>Sandy</td>\n      <td>Millets</td>\n      <td>24</td>\n      <td>12</td>\n      <td>16</td>\n      <td>17-17-17</td>\n    </tr>\n    <tr>\n      <th>3</th>\n      <td>35</td>\n      <td>62</td>\n      <td>54</td>\n      <td>Sandy</td>\n      <td>Barley</td>\n      <td>39</td>\n      <td>12</td>\n      <td>4</td>\n      <td>10-26-26</td>\n    </tr>\n    <tr>\n      <th>4</th>\n      <td>35</td>\n      <td>58</td>\n      <td>43</td>\n      <td>Red</td>\n      <td>Paddy</td>\n      <td>37</td>\n      <td>2</td>\n      <td>16</td>\n      <td>DAP</td>\n    </tr>\n  </tbody>\n</table>\n</div>"
          },
          "metadata": {}
        }
      ],
      "execution_count": null
    },
    {
      "cell_type": "code",
      "source": [
        "train_df.describe()"
      ],
      "metadata": {
        "trusted": true,
        "execution": {
          "iopub.status.busy": "2025-06-12T11:30:42.451195Z",
          "iopub.execute_input": "2025-06-12T11:30:42.451522Z",
          "iopub.status.idle": "2025-06-12T11:30:42.660147Z",
          "shell.execute_reply.started": "2025-06-12T11:30:42.451499Z",
          "shell.execute_reply": "2025-06-12T11:30:42.659155Z"
        },
        "id": "YBm7WLV5-erU",
        "outputId": "14c26241-8ee5-4055-ea6f-7c3f59de3fb7"
      },
      "outputs": [
        {
          "execution_count": 8,
          "output_type": "execute_result",
          "data": {
            "text/plain": "         Temparature       Humidity       Moisture       Nitrogen  \\\ncount  750000.000000  750000.000000  750000.000000  750000.000000   \nmean       31.503565      61.038912      45.184147      23.093808   \nstd         4.025574       6.647695      11.794594      11.216125   \nmin        25.000000      50.000000      25.000000       4.000000   \n25%        28.000000      55.000000      35.000000      13.000000   \n50%        32.000000      61.000000      45.000000      23.000000   \n75%        35.000000      67.000000      55.000000      33.000000   \nmax        38.000000      72.000000      65.000000      42.000000   \n\n           Potassium    Phosphorous  \ncount  750000.000000  750000.000000  \nmean        9.478296      21.073227  \nstd         5.765622      12.346831  \nmin         0.000000       0.000000  \n25%         4.000000      10.000000  \n50%         9.000000      21.000000  \n75%        14.000000      32.000000  \nmax        19.000000      42.000000  ",
            "text/html": "<div>\n<style scoped>\n    .dataframe tbody tr th:only-of-type {\n        vertical-align: middle;\n    }\n\n    .dataframe tbody tr th {\n        vertical-align: top;\n    }\n\n    .dataframe thead th {\n        text-align: right;\n    }\n</style>\n<table border=\"1\" class=\"dataframe\">\n  <thead>\n    <tr style=\"text-align: right;\">\n      <th></th>\n      <th>Temparature</th>\n      <th>Humidity</th>\n      <th>Moisture</th>\n      <th>Nitrogen</th>\n      <th>Potassium</th>\n      <th>Phosphorous</th>\n    </tr>\n  </thead>\n  <tbody>\n    <tr>\n      <th>count</th>\n      <td>750000.000000</td>\n      <td>750000.000000</td>\n      <td>750000.000000</td>\n      <td>750000.000000</td>\n      <td>750000.000000</td>\n      <td>750000.000000</td>\n    </tr>\n    <tr>\n      <th>mean</th>\n      <td>31.503565</td>\n      <td>61.038912</td>\n      <td>45.184147</td>\n      <td>23.093808</td>\n      <td>9.478296</td>\n      <td>21.073227</td>\n    </tr>\n    <tr>\n      <th>std</th>\n      <td>4.025574</td>\n      <td>6.647695</td>\n      <td>11.794594</td>\n      <td>11.216125</td>\n      <td>5.765622</td>\n      <td>12.346831</td>\n    </tr>\n    <tr>\n      <th>min</th>\n      <td>25.000000</td>\n      <td>50.000000</td>\n      <td>25.000000</td>\n      <td>4.000000</td>\n      <td>0.000000</td>\n      <td>0.000000</td>\n    </tr>\n    <tr>\n      <th>25%</th>\n      <td>28.000000</td>\n      <td>55.000000</td>\n      <td>35.000000</td>\n      <td>13.000000</td>\n      <td>4.000000</td>\n      <td>10.000000</td>\n    </tr>\n    <tr>\n      <th>50%</th>\n      <td>32.000000</td>\n      <td>61.000000</td>\n      <td>45.000000</td>\n      <td>23.000000</td>\n      <td>9.000000</td>\n      <td>21.000000</td>\n    </tr>\n    <tr>\n      <th>75%</th>\n      <td>35.000000</td>\n      <td>67.000000</td>\n      <td>55.000000</td>\n      <td>33.000000</td>\n      <td>14.000000</td>\n      <td>32.000000</td>\n    </tr>\n    <tr>\n      <th>max</th>\n      <td>38.000000</td>\n      <td>72.000000</td>\n      <td>65.000000</td>\n      <td>42.000000</td>\n      <td>19.000000</td>\n      <td>42.000000</td>\n    </tr>\n  </tbody>\n</table>\n</div>"
          },
          "metadata": {}
        }
      ],
      "execution_count": null
    },
    {
      "cell_type": "markdown",
      "source": [
        "## Preprocessing"
      ],
      "metadata": {
        "id": "07NgJ2hN-erV"
      }
    },
    {
      "cell_type": "code",
      "source": [
        "# Preprocess the data\n",
        "X = train_df.drop(columns='Fertilizer Name')\n",
        "y = train_df['Fertilizer Name']\n",
        "X_test = test_df.copy()"
      ],
      "metadata": {
        "trusted": true,
        "execution": {
          "iopub.status.busy": "2025-06-12T11:30:43.672100Z",
          "iopub.execute_input": "2025-06-12T11:30:43.672980Z",
          "iopub.status.idle": "2025-06-12T11:30:43.721047Z",
          "shell.execute_reply.started": "2025-06-12T11:30:43.672949Z",
          "shell.execute_reply": "2025-06-12T11:30:43.720203Z"
        },
        "id": "np7czCp1-erV"
      },
      "outputs": [],
      "execution_count": null
    },
    {
      "cell_type": "code",
      "source": [
        "# Encode labels to integers\n",
        "le = LabelEncoder()\n",
        "y_enc = le.fit_transform(y)"
      ],
      "metadata": {
        "trusted": true,
        "execution": {
          "iopub.status.busy": "2025-06-12T11:30:43.969300Z",
          "iopub.execute_input": "2025-06-12T11:30:43.970349Z",
          "iopub.status.idle": "2025-06-12T11:30:44.141294Z",
          "shell.execute_reply.started": "2025-06-12T11:30:43.970319Z",
          "shell.execute_reply": "2025-06-12T11:30:44.140579Z"
        },
        "id": "T25jxZJE-erV"
      },
      "outputs": [],
      "execution_count": null
    },
    {
      "cell_type": "code",
      "source": [
        "# One-hot encode categorical variables\n",
        "X_full = pd.concat([X, X_test], axis=0)\n",
        "X_full_encoded = pd.get_dummies(X_full)\n",
        "X_enc = X_full_encoded.iloc[:len(X)]\n",
        "X_test_enc = X_full_encoded.iloc[len(X):]"
      ],
      "metadata": {
        "trusted": true,
        "execution": {
          "iopub.status.busy": "2025-06-12T11:30:44.204583Z",
          "iopub.execute_input": "2025-06-12T11:30:44.205017Z",
          "iopub.status.idle": "2025-06-12T11:30:44.602163Z",
          "shell.execute_reply.started": "2025-06-12T11:30:44.204918Z",
          "shell.execute_reply": "2025-06-12T11:30:44.600945Z"
        },
        "id": "A7NR6d-a-erV"
      },
      "outputs": [],
      "execution_count": null
    },
    {
      "cell_type": "code",
      "source": [
        "# Create folds\n",
        "X_train, X_val, y_train, y_val = train_test_split(X_enc, y_enc, test_size=0.2, random_state=42)"
      ],
      "metadata": {
        "trusted": true,
        "execution": {
          "iopub.status.busy": "2025-06-12T11:31:00.793767Z",
          "iopub.execute_input": "2025-06-12T11:31:00.794115Z",
          "iopub.status.idle": "2025-06-12T11:31:01.010265Z",
          "shell.execute_reply.started": "2025-06-12T11:31:00.794093Z",
          "shell.execute_reply": "2025-06-12T11:31:01.008784Z"
        },
        "id": "AmC2twdg-erV"
      },
      "outputs": [],
      "execution_count": null
    },
    {
      "cell_type": "markdown",
      "source": [
        "## Train"
      ],
      "metadata": {
        "id": "0d4uKeoJ-erV"
      }
    },
    {
      "cell_type": "code",
      "source": [
        "# Hyperparameters\n",
        "params = {\n",
        "    'learning_rate': 0.0404,\n",
        "    'max_depth': 20,\n",
        "    'min_child_weight': 5.53,\n",
        "    'gamma': 0.2846,\n",
        "    'alpha': 2.95,\n",
        "    'subsample': 0.6,\n",
        "    'colsample_bytree': 0.42,\n",
        "    'eta': 0.5272,\n",
        "    'n_estimators': 893,\n",
        "    'lambda': 0.0106,\n",
        "    'verbosity': 0,\n",
        "    'objective': 'multi:softprob',\n",
        "    'enable_categorical': False,\n",
        "    'tree_method': \"hist\",\n",
        "    'n_jobs': -1,\n",
        "    'random_state': 42\n",
        "}"
      ],
      "metadata": {
        "trusted": true,
        "execution": {
          "iopub.status.busy": "2025-06-12T11:31:05.590939Z",
          "iopub.execute_input": "2025-06-12T11:31:05.591253Z",
          "iopub.status.idle": "2025-06-12T11:31:05.597845Z",
          "shell.execute_reply.started": "2025-06-12T11:31:05.591230Z",
          "shell.execute_reply": "2025-06-12T11:31:05.596544Z"
        },
        "id": "JFAxpDVq-erV"
      },
      "outputs": [],
      "execution_count": null
    },
    {
      "cell_type": "code",
      "source": [
        "# Train model\n",
        "model = XGBClassifier(**params)\n",
        "\n",
        "model.fit(\n",
        "    X_train,\n",
        "    y_train,\n",
        "    eval_set=[(X_val, y_val)],\n",
        "    verbose=100\n",
        ")"
      ],
      "metadata": {
        "trusted": true,
        "execution": {
          "iopub.status.busy": "2025-06-12T11:31:06.992194Z",
          "iopub.execute_input": "2025-06-12T11:31:06.992531Z",
          "iopub.status.idle": "2025-06-12T11:40:47.748525Z",
          "shell.execute_reply.started": "2025-06-12T11:31:06.992509Z",
          "shell.execute_reply": "2025-06-12T11:40:47.747513Z"
        },
        "id": "k6-GPuwZ-erW",
        "outputId": "b034cf3f-08aa-443c-bf58-0ed8dac5b4db"
      },
      "outputs": [
        {
          "name": "stdout",
          "text": "[0]\tvalidation_0-mlogloss:1.94542\n[100]\tvalidation_0-mlogloss:1.92042\n[200]\tvalidation_0-mlogloss:1.91150\n[300]\tvalidation_0-mlogloss:1.90738\n[400]\tvalidation_0-mlogloss:1.90608\n[500]\tvalidation_0-mlogloss:1.90619\n[600]\tvalidation_0-mlogloss:1.90714\n[700]\tvalidation_0-mlogloss:1.90886\n[800]\tvalidation_0-mlogloss:1.91065\n[892]\tvalidation_0-mlogloss:1.91246\n",
          "output_type": "stream"
        },
        {
          "execution_count": 16,
          "output_type": "execute_result",
          "data": {
            "text/plain": "XGBClassifier(alpha=2.95, base_score=None, booster=None, callbacks=None,\n              colsample_bylevel=None, colsample_bynode=None,\n              colsample_bytree=0.42, device=None, early_stopping_rounds=None,\n              enable_categorical=False, eta=0.5272, eval_metric=None,\n              feature_types=None, gamma=0.2846, grow_policy=None,\n              importance_type=None, interaction_constraints=None, lambda=0.0106,\n              learning_rate=0.0404, max_bin=None, max_cat_threshold=None,\n              max_cat_to_onehot=None, max_delta_step=None, max_depth=20,\n              max_leaves=None, min_child_weight=5.53, missing=nan,\n              monotone_constraints=None, multi_strategy=None, n_estimators=893, ...)",
            "text/html": "<style>#sk-container-id-1 {color: black;background-color: white;}#sk-container-id-1 pre{padding: 0;}#sk-container-id-1 div.sk-toggleable {background-color: white;}#sk-container-id-1 label.sk-toggleable__label {cursor: pointer;display: block;width: 100%;margin-bottom: 0;padding: 0.3em;box-sizing: border-box;text-align: center;}#sk-container-id-1 label.sk-toggleable__label-arrow:before {content: \"▸\";float: left;margin-right: 0.25em;color: #696969;}#sk-container-id-1 label.sk-toggleable__label-arrow:hover:before {color: black;}#sk-container-id-1 div.sk-estimator:hover label.sk-toggleable__label-arrow:before {color: black;}#sk-container-id-1 div.sk-toggleable__content {max-height: 0;max-width: 0;overflow: hidden;text-align: left;background-color: #f0f8ff;}#sk-container-id-1 div.sk-toggleable__content pre {margin: 0.2em;color: black;border-radius: 0.25em;background-color: #f0f8ff;}#sk-container-id-1 input.sk-toggleable__control:checked~div.sk-toggleable__content {max-height: 200px;max-width: 100%;overflow: auto;}#sk-container-id-1 input.sk-toggleable__control:checked~label.sk-toggleable__label-arrow:before {content: \"▾\";}#sk-container-id-1 div.sk-estimator input.sk-toggleable__control:checked~label.sk-toggleable__label {background-color: #d4ebff;}#sk-container-id-1 div.sk-label input.sk-toggleable__control:checked~label.sk-toggleable__label {background-color: #d4ebff;}#sk-container-id-1 input.sk-hidden--visually {border: 0;clip: rect(1px 1px 1px 1px);clip: rect(1px, 1px, 1px, 1px);height: 1px;margin: -1px;overflow: hidden;padding: 0;position: absolute;width: 1px;}#sk-container-id-1 div.sk-estimator {font-family: monospace;background-color: #f0f8ff;border: 1px dotted black;border-radius: 0.25em;box-sizing: border-box;margin-bottom: 0.5em;}#sk-container-id-1 div.sk-estimator:hover {background-color: #d4ebff;}#sk-container-id-1 div.sk-parallel-item::after {content: \"\";width: 100%;border-bottom: 1px solid gray;flex-grow: 1;}#sk-container-id-1 div.sk-label:hover label.sk-toggleable__label {background-color: #d4ebff;}#sk-container-id-1 div.sk-serial::before {content: \"\";position: absolute;border-left: 1px solid gray;box-sizing: border-box;top: 0;bottom: 0;left: 50%;z-index: 0;}#sk-container-id-1 div.sk-serial {display: flex;flex-direction: column;align-items: center;background-color: white;padding-right: 0.2em;padding-left: 0.2em;position: relative;}#sk-container-id-1 div.sk-item {position: relative;z-index: 1;}#sk-container-id-1 div.sk-parallel {display: flex;align-items: stretch;justify-content: center;background-color: white;position: relative;}#sk-container-id-1 div.sk-item::before, #sk-container-id-1 div.sk-parallel-item::before {content: \"\";position: absolute;border-left: 1px solid gray;box-sizing: border-box;top: 0;bottom: 0;left: 50%;z-index: -1;}#sk-container-id-1 div.sk-parallel-item {display: flex;flex-direction: column;z-index: 1;position: relative;background-color: white;}#sk-container-id-1 div.sk-parallel-item:first-child::after {align-self: flex-end;width: 50%;}#sk-container-id-1 div.sk-parallel-item:last-child::after {align-self: flex-start;width: 50%;}#sk-container-id-1 div.sk-parallel-item:only-child::after {width: 0;}#sk-container-id-1 div.sk-dashed-wrapped {border: 1px dashed gray;margin: 0 0.4em 0.5em 0.4em;box-sizing: border-box;padding-bottom: 0.4em;background-color: white;}#sk-container-id-1 div.sk-label label {font-family: monospace;font-weight: bold;display: inline-block;line-height: 1.2em;}#sk-container-id-1 div.sk-label-container {text-align: center;}#sk-container-id-1 div.sk-container {/* jupyter's `normalize.less` sets `[hidden] { display: none; }` but bootstrap.min.css set `[hidden] { display: none !important; }` so we also need the `!important` here to be able to override the default hidden behavior on the sphinx rendered scikit-learn.org. See: https://github.com/scikit-learn/scikit-learn/issues/21755 */display: inline-block !important;position: relative;}#sk-container-id-1 div.sk-text-repr-fallback {display: none;}</style><div id=\"sk-container-id-1\" class=\"sk-top-container\"><div class=\"sk-text-repr-fallback\"><pre>XGBClassifier(alpha=2.95, base_score=None, booster=None, callbacks=None,\n              colsample_bylevel=None, colsample_bynode=None,\n              colsample_bytree=0.42, device=None, early_stopping_rounds=None,\n              enable_categorical=False, eta=0.5272, eval_metric=None,\n              feature_types=None, gamma=0.2846, grow_policy=None,\n              importance_type=None, interaction_constraints=None, lambda=0.0106,\n              learning_rate=0.0404, max_bin=None, max_cat_threshold=None,\n              max_cat_to_onehot=None, max_delta_step=None, max_depth=20,\n              max_leaves=None, min_child_weight=5.53, missing=nan,\n              monotone_constraints=None, multi_strategy=None, n_estimators=893, ...)</pre><b>In a Jupyter environment, please rerun this cell to show the HTML representation or trust the notebook. <br />On GitHub, the HTML representation is unable to render, please try loading this page with nbviewer.org.</b></div><div class=\"sk-container\" hidden><div class=\"sk-item\"><div class=\"sk-estimator sk-toggleable\"><input class=\"sk-toggleable__control sk-hidden--visually\" id=\"sk-estimator-id-1\" type=\"checkbox\" checked><label for=\"sk-estimator-id-1\" class=\"sk-toggleable__label sk-toggleable__label-arrow\">XGBClassifier</label><div class=\"sk-toggleable__content\"><pre>XGBClassifier(alpha=2.95, base_score=None, booster=None, callbacks=None,\n              colsample_bylevel=None, colsample_bynode=None,\n              colsample_bytree=0.42, device=None, early_stopping_rounds=None,\n              enable_categorical=False, eta=0.5272, eval_metric=None,\n              feature_types=None, gamma=0.2846, grow_policy=None,\n              importance_type=None, interaction_constraints=None, lambda=0.0106,\n              learning_rate=0.0404, max_bin=None, max_cat_threshold=None,\n              max_cat_to_onehot=None, max_delta_step=None, max_depth=20,\n              max_leaves=None, min_child_weight=5.53, missing=nan,\n              monotone_constraints=None, multi_strategy=None, n_estimators=893, ...)</pre></div></div></div></div></div>"
          },
          "metadata": {}
        }
      ],
      "execution_count": null
    },
    {
      "cell_type": "code",
      "source": [
        "# Validation predictions\n",
        "val_labels = model.predict(X_val)\n",
        "val_probs = model.predict_proba(X_val)\n",
        "\n",
        "acc = accuracy_score(y_val, val_labels)\n",
        "print(f\"Accuracy: {acc:.4f}\")\n",
        "\n",
        "#val_top3_idx = val_probs.argsort(axis=1)[:, -3:][:, ::-1]\n",
        "#val_top3_labels = le.inverse_transform(val_top3_idx.ravel()).reshape(val_top3_idx.shape)\n",
        "#map3_score = mapk(y.values, val_top3_labels, k=3)\n",
        "#print(f\"MAP@3: {map3_score:.5f}\")"
      ],
      "metadata": {
        "trusted": true,
        "execution": {
          "iopub.status.busy": "2025-06-12T11:40:51.092575Z",
          "iopub.execute_input": "2025-06-12T11:40:51.092898Z",
          "iopub.status.idle": "2025-06-12T11:42:50.446761Z",
          "shell.execute_reply.started": "2025-06-12T11:40:51.092876Z",
          "shell.execute_reply": "2025-06-12T11:42:50.444454Z"
        },
        "id": "i76DqlbB-erW",
        "outputId": "2f8d6f23-13d9-48d3-ab5a-e4051f50d7bd"
      },
      "outputs": [
        {
          "name": "stdout",
          "text": "Accuracy: 0.2098\n",
          "output_type": "stream"
        }
      ],
      "execution_count": null
    },
    {
      "cell_type": "code",
      "source": [
        "# Predict test set\n",
        "test_probs = model.predict_proba(X_test_enc)\n",
        "test_top3_idx = test_probs.argsort(axis=1)[:, -3:][:, ::-1]\n",
        "test_top3_labels = le.inverse_transform(test_top3_idx.ravel()).reshape(test_top3_idx.shape)"
      ],
      "metadata": {
        "trusted": true,
        "execution": {
          "iopub.status.busy": "2025-06-12T11:43:45.487027Z",
          "iopub.execute_input": "2025-06-12T11:43:45.487316Z",
          "iopub.status.idle": "2025-06-12T11:45:28.214416Z",
          "shell.execute_reply.started": "2025-06-12T11:43:45.487298Z",
          "shell.execute_reply": "2025-06-12T11:45:28.213076Z"
        },
        "id": "qSDAgbx4-erW"
      },
      "outputs": [],
      "execution_count": null
    },
    {
      "cell_type": "code",
      "source": [
        "# Save test predictions\n",
        "top3_str = [' '.join(le3.inverse_transform(row)) for row in top3_indices]\n",
        "submission = pd.DataFrame({\n",
        "    'id': test['id'],\n",
        "    'Fertilizer Name': top3_str\n",
        "})\n",
        "submission.to_csv(\"submission.csv\", index=False)\n",
        "submission.head()"
      ],
      "metadata": {
        "trusted": true,
        "execution": {
          "iopub.status.busy": "2025-06-12T11:30:07.190517Z",
          "iopub.execute_input": "2025-06-12T11:30:07.190858Z",
          "iopub.status.idle": "2025-06-12T11:30:07.203875Z",
          "shell.execute_reply.started": "2025-06-12T11:30:07.190834Z",
          "shell.execute_reply": "2025-06-12T11:30:07.202575Z"
        },
        "id": "y0Ytc0Ku-erW",
        "outputId": "5e404e1c-e050-4f93-d5ed-3f6e4ce67d20"
      },
      "outputs": [
        {
          "traceback": [
            "\u001b[0;31m---------------------------------------------------------------------------\u001b[0m",
            "\u001b[0;31mNameError\u001b[0m                                 Traceback (most recent call last)",
            "\u001b[0;32m/tmp/ipykernel_35/2335727103.py\u001b[0m in \u001b[0;36m<cell line: 0>\u001b[0;34m()\u001b[0m\n\u001b[1;32m      1\u001b[0m \u001b[0;31m# Save test predictions\u001b[0m\u001b[0;34m\u001b[0m\u001b[0;34m\u001b[0m\u001b[0m\n\u001b[0;32m----> 2\u001b[0;31m submission = pd.DataFrame({\n\u001b[0m\u001b[1;32m      3\u001b[0m     \u001b[0;34m'id'\u001b[0m\u001b[0;34m:\u001b[0m \u001b[0mtest_csv\u001b[0m\u001b[0;34m[\u001b[0m\u001b[0;34m'id'\u001b[0m\u001b[0;34m]\u001b[0m\u001b[0;34m,\u001b[0m\u001b[0;34m\u001b[0m\u001b[0;34m\u001b[0m\u001b[0m\n\u001b[1;32m      4\u001b[0m     \u001b[0;34m'Fertilizer Name'\u001b[0m\u001b[0;34m:\u001b[0m \u001b[0;34m[\u001b[0m\u001b[0;34m' '\u001b[0m\u001b[0;34m.\u001b[0m\u001b[0mjoin\u001b[0m\u001b[0;34m(\u001b[0m\u001b[0mrow\u001b[0m\u001b[0;34m)\u001b[0m \u001b[0;32mfor\u001b[0m \u001b[0mrow\u001b[0m \u001b[0;32min\u001b[0m \u001b[0mtest_top3_labels\u001b[0m\u001b[0;34m]\u001b[0m\u001b[0;34m\u001b[0m\u001b[0;34m\u001b[0m\u001b[0m\n\u001b[1;32m      5\u001b[0m })\n",
            "\u001b[0;31mNameError\u001b[0m: name 'pd' is not defined"
          ],
          "ename": "NameError",
          "evalue": "name 'pd' is not defined",
          "output_type": "error"
        }
      ],
      "execution_count": null
    },
    {
      "cell_type": "code",
      "source": [],
      "metadata": {
        "trusted": true,
        "id": "B6-6j4qz-erX"
      },
      "outputs": [],
      "execution_count": null
    }
  ]
}